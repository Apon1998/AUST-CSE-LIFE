{
  "nbformat": 4,
  "nbformat_minor": 0,
  "metadata": {
    "colab": {
      "name": "170204003.ipynb",
      "provenance": []
    },
    "kernelspec": {
      "name": "python3",
      "display_name": "Python 3"
    },
    "language_info": {
      "name": "python"
    }
  },
  "cells": [
    {
      "cell_type": "code",
      "execution_count": 3,
      "metadata": {
        "colab": {
          "base_uri": "https://localhost:8080/"
        },
        "id": "7T1aXNOqo6Of",
        "outputId": "b97a6466-2b97-4708-dbde-8fec278458c7"
      },
      "outputs": [
        {
          "output_type": "stream",
          "name": "stdout",
          "text": [
            "Drive already mounted at /content/gdrive; to attempt to forcibly remount, call drive.mount(\"/content/gdrive\", force_remount=True).\n",
            "36\n",
            "379\n"
          ]
        }
      ],
      "source": [
        "import pandas as pd\n",
        "import numpy as np\n",
        "import torch\n",
        "import random\n",
        "import torch.nn as nn\n",
        "import torch.nn.functional as F\n",
        "import torchvision\n",
        "import torchvision.transforms as transforms\n",
        "import torchvision.datasets as dsets\n",
        "\n",
        "from google.colab import drive\n",
        "drive.mount('/content/gdrive')\n",
        "\n",
        "train_normal= np.load('/content/gdrive/MyDrive/Data/train_Normal_128.npy')\n",
        "train_virus= np.load('/content/gdrive/MyDrive/Data/train_Virus_128.npy')\n",
        "test_normal= np.load('/content/gdrive/MyDrive/Data/test_Normal_128.npy')\n",
        "test_virus= np.load('/content/gdrive/MyDrive/Data/test_Virus_128.npy')\n",
        "\n",
        "ttn= np.float32(test_normal)\n",
        "torch.manual_seed(3)\n",
        "\n",
        "tensor_train_normal = torch.Tensor(train_normal)\n",
        "tensor_train_virus = torch.Tensor(train_virus)\n",
        "tensor_test_normal = torch.Tensor(ttn)\n",
        "tensor_test_virus = torch.Tensor(test_virus)\n",
        "\n",
        "Train = torch.cat((tensor_train_normal,tensor_train_virus))\n",
        "Test = torch.cat((tensor_test_normal,tensor_test_virus))\n",
        "\n",
        "Shuffle_Train= Train[torch.randperm(Train.size()[0])]\n",
        "Shuffle_Test= Test[torch.randperm(Test.size()[0])]\n",
        "\n",
        "Final_Train= Shuffle_Train[3:int(torch.rand(1,)*1000), :, :,:] \n",
        "Final_Test= Shuffle_Test[3:int(torch.rand(1,)*1000), :, :,:]\n",
        "\n",
        "Size_Train=len(Final_Train)\n",
        "Size_Test=len(Final_Test)\n",
        "print(Size_Train)\n",
        "print(Size_Test)\n",
        "train_y = torch.randint(0,9, (Size_Train,))   \n",
        "test_y = torch.randint(0,9, (Size_Test,))\n",
        "\n"
      ]
    },
    {
      "cell_type": "code",
      "source": [
        "class NeuralNetwork(nn.Module):\n",
        "    def __init__(self, input_dim):\n",
        "        super(NeuralNetwork, self).__init__()\n",
        "        self.cnn_layer_1 = nn.Conv2d(in_channels=1, out_channels=16,kernel_size=5, stride=1, padding=2)\n",
        "        self.cnn_layer_2 = nn.Conv2d(in_channels=16, out_channels=32,kernel_size=5, stride=1, padding=2)\n",
        "        \n",
        "        self.flatten = nn.Flatten()\n",
        "        self.maxpool = nn.MaxPool2d(2,2)\n",
        "        \n",
        "        self.linear_layer_1 = nn.Linear(32768, 512) \n",
        "        self.linear_layer_2 = nn.Linear(512, 128)\n",
        "        self.linear_layer_3 = nn.Linear(128, 10)   \n",
        "        \n",
        "        self.relu = nn.ReLU()\n",
        "        self.sigmoid = nn.Sigmoid()\n",
        "        self.dropout = nn.Dropout(.2)\n",
        "        \n",
        "       \n",
        "        \n",
        "    def forward(self, x):\n",
        "\n",
        "        x = self.cnn_layer_1(x)\n",
        "        x = self.dropout(x)\n",
        "        x = self.relu(x)\n",
        "        x = self.maxpool(x)\n",
        "        \n",
        "       \n",
        "        \n",
        "        x = self.cnn_layer_2(x)   #print(x.shape)\n",
        "        x = self.dropout(x)\n",
        "        x = self.relu(x)\n",
        "        x = self.maxpool(x)\n",
        "        \n",
        "        #print(x.shape)\n",
        "        \n",
        "        x = self.flatten(x)\n",
        "        #print(x.shape)\n",
        "        \n",
        "        x = self.linear_layer_1(x)\n",
        "        x = self.dropout(x)\n",
        "        x = self.relu(x)\n",
        "        \n",
        "        x = self.linear_layer_2(x)\n",
        "        x = self.dropout(x)\n",
        "        x = self.relu(x)\n",
        "        \n",
        "        x = self.linear_layer_3(x)\n",
        "       \n",
        "        return x"
      ],
      "metadata": {
        "id": "pdEmnsM62pIO"
      },
      "execution_count": 11,
      "outputs": []
    },
    {
      "cell_type": "code",
      "source": [
        "model = NeuralNetwork(16384)\n",
        "print(model)\n",
        "\n"
      ],
      "metadata": {
        "id": "gplitmj1YZid",
        "outputId": "5086ae0c-1b53-43e6-8fea-1dee1ac7221e",
        "execution": {
          "iopub.status.busy": "2021-12-24T20:37:08.579894Z",
          "iopub.execute_input": "2021-12-24T20:37:08.580186Z",
          "iopub.status.idle": "2021-12-24T20:37:11.653417Z",
          "shell.execute_reply.started": "2021-12-24T20:37:08.580148Z",
          "shell.execute_reply": "2021-12-24T20:37:11.652549Z"
        },
        "trusted": true,
        "colab": {
          "base_uri": "https://localhost:8080/"
        }
      },
      "execution_count": 5,
      "outputs": [
        {
          "output_type": "stream",
          "name": "stdout",
          "text": [
            "NeuralNetwork(\n",
            "  (cnn_layer_1): Conv2d(1, 16, kernel_size=(5, 5), stride=(1, 1), padding=(2, 2))\n",
            "  (cnn_layer_2): Conv2d(16, 32, kernel_size=(5, 5), stride=(1, 1), padding=(2, 2))\n",
            "  (flatten): Flatten(start_dim=1, end_dim=-1)\n",
            "  (maxpool): MaxPool2d(kernel_size=2, stride=2, padding=0, dilation=1, ceil_mode=False)\n",
            "  (linear_layer_1): Linear(in_features=32768, out_features=512, bias=True)\n",
            "  (linear_layer_2): Linear(in_features=512, out_features=128, bias=True)\n",
            "  (linear_layer_3): Linear(in_features=128, out_features=10, bias=True)\n",
            "  (relu): ReLU()\n",
            "  (sigmoid): Sigmoid()\n",
            "  (dropout): Dropout(p=0.2, inplace=False)\n",
            ")\n"
          ]
        }
      ]
    },
    {
      "cell_type": "code",
      "source": [
        "from torchsummary import summary\n",
        "summary(model,(1,128,128))"
      ],
      "metadata": {
        "colab": {
          "base_uri": "https://localhost:8080/"
        },
        "id": "NnZwVX0Wrnvu",
        "outputId": "83990a70-7515-4cbc-bae6-835fbd606c94"
      },
      "execution_count": 6,
      "outputs": [
        {
          "output_type": "stream",
          "name": "stdout",
          "text": [
            "----------------------------------------------------------------\n",
            "        Layer (type)               Output Shape         Param #\n",
            "================================================================\n",
            "            Conv2d-1         [-1, 16, 128, 128]             416\n",
            "           Dropout-2         [-1, 16, 128, 128]               0\n",
            "              ReLU-3         [-1, 16, 128, 128]               0\n",
            "         MaxPool2d-4           [-1, 16, 64, 64]               0\n",
            "            Conv2d-5           [-1, 32, 64, 64]          12,832\n",
            "           Dropout-6           [-1, 32, 64, 64]               0\n",
            "              ReLU-7           [-1, 32, 64, 64]               0\n",
            "         MaxPool2d-8           [-1, 32, 32, 32]               0\n",
            "           Flatten-9                [-1, 32768]               0\n",
            "           Linear-10                  [-1, 512]      16,777,728\n",
            "          Dropout-11                  [-1, 512]               0\n",
            "             ReLU-12                  [-1, 512]               0\n",
            "           Linear-13                  [-1, 128]          65,664\n",
            "          Dropout-14                  [-1, 128]               0\n",
            "             ReLU-15                  [-1, 128]               0\n",
            "           Linear-16                   [-1, 10]           1,290\n",
            "================================================================\n",
            "Total params: 16,857,930\n",
            "Trainable params: 16,857,930\n",
            "Non-trainable params: 0\n",
            "----------------------------------------------------------------\n",
            "Input size (MB): 0.06\n",
            "Forward/backward pass size (MB): 10.01\n",
            "Params size (MB): 64.31\n",
            "Estimated Total Size (MB): 74.39\n",
            "----------------------------------------------------------------\n"
          ]
        }
      ]
    },
    {
      "cell_type": "code",
      "source": [
        "loss_fn = nn.CrossEntropyLoss()\n",
        "optimizer = torch.optim.SGD(model.parameters(), lr=.001)"
      ],
      "metadata": {
        "id": "cPC6Ilg4YEBM",
        "execution": {
          "iopub.status.busy": "2021-12-24T20:37:11.654579Z",
          "iopub.execute_input": "2021-12-24T20:37:11.654835Z",
          "iopub.status.idle": "2021-12-24T20:37:11.659504Z",
          "shell.execute_reply.started": "2021-12-24T20:37:11.654805Z",
          "shell.execute_reply": "2021-12-24T20:37:11.65873Z"
        },
        "trusted": true
      },
      "execution_count": 7,
      "outputs": []
    },
    {
      "cell_type": "code",
      "source": [
        "def trainModel(model, loss_fn, optimizer):\n",
        "    model.train()\n",
        "\n",
        "    batch = 100\n",
        "\n",
        "    loss = 0\n",
        "    for i in range(Final_Train.shape[0]):\n",
        "      x, y = torch.reshape(Final_Train[i],(1,1,128,128)), torch.tensor([train_y[i]], dtype=torch.float)\n",
        "      label=torch.zeros([1,10,], dtype=torch.float32)\n",
        "      label[0,int(y.item())]=1\n",
        "      # Compute prediction error\n",
        "      pred = model(x)     \n",
        "      #print(pred)\n",
        "      #print(label)\n",
        "      loss += loss_fn(pred, label)\n",
        "      \n",
        "      if i>0 and (i+1)%batch == 0:\n",
        "          # Backpropagation\n",
        "          optimizer.zero_grad()\n",
        "          loss.backward()\n",
        "          optimizer.step()\n",
        "          print(f'Training Loss: {loss.item():.4f}', end=\"\\r\")\n",
        "          loss = 0\n",
        "    print()"
      ],
      "metadata": {
        "id": "NatEH3DiauoT",
        "execution": {
          "iopub.status.busy": "2021-12-24T20:37:11.660683Z",
          "iopub.execute_input": "2021-12-24T20:37:11.660908Z",
          "iopub.status.idle": "2021-12-24T20:37:11.67238Z",
          "shell.execute_reply.started": "2021-12-24T20:37:11.66088Z",
          "shell.execute_reply": "2021-12-24T20:37:11.671479Z"
        },
        "trusted": true
      },
      "execution_count": 8,
      "outputs": []
    },
    {
      "cell_type": "code",
      "source": [
        "def testModel(model, loss_fn):\n",
        "    model.eval()\n",
        "\n",
        "    size = Final_Test.shape[0]\n",
        "    correct=0\n",
        "    loss = 0\n",
        "    total =10000\n",
        "    with torch.no_grad():\n",
        "      for i in range(Final_Test.shape[0]):\n",
        "        x, y = torch.reshape(Final_Test[i],(1,1,128,128)), torch.tensor([test_y[i]], dtype=torch.float)\n",
        "        label=torch.zeros([1,10,], dtype=torch.float32)\n",
        "        label[0,int(y.item())]=1\n",
        "        pred = model(x)\n",
        "        #print(pred)\n",
        "        predicted = torch.argmax(pred)\n",
        "        #print(predicted)\n",
        "        #print(y)\n",
        "\n",
        "\n",
        "        # Total correct predictions\n",
        "        correct += (predicted == int(y)).sum()\n",
        "\n",
        "        loss += loss_fn(pred, label)\n",
        "      \n",
        "    loss /= size\n",
        "    accuracy = 100 * correct.item() / total\n",
        "\n",
        "    #Print Loss\n",
        "    print('Loss: {}. Accuracy: {}'.format({loss}, accuracy))\n",
        "    "
      ],
      "metadata": {
        "id": "1KaMQMhYdMsj",
        "execution": {
          "iopub.status.busy": "2021-12-24T20:37:11.67373Z",
          "iopub.execute_input": "2021-12-24T20:37:11.673945Z",
          "iopub.status.idle": "2021-12-24T20:37:11.688656Z",
          "shell.execute_reply.started": "2021-12-24T20:37:11.673919Z",
          "shell.execute_reply": "2021-12-24T20:37:11.687758Z"
        },
        "trusted": true
      },
      "execution_count": 9,
      "outputs": []
    },
    {
      "cell_type": "code",
      "source": [
        "epochs = 5\n",
        "for t in range(epochs):\n",
        "    print(f\"Epoch {t+1}\\n-------------------------------\")\n",
        "    trainModel(model, loss_fn, optimizer)\n",
        "    testModel(model, loss_fn)\n",
        "print(\"Done!\")"
      ],
      "metadata": {
        "id": "FHfxWQS6kVNV",
        "outputId": "3d433e11-04ae-42f9-99b7-97074dd7ca11",
        "execution": {
          "iopub.status.busy": "2021-12-24T20:37:11.690049Z",
          "iopub.execute_input": "2021-12-24T20:37:11.690277Z"
        },
        "trusted": true,
        "colab": {
          "base_uri": "https://localhost:8080/"
        }
      },
      "execution_count": 10,
      "outputs": [
        {
          "output_type": "stream",
          "name": "stdout",
          "text": [
            "Epoch 1\n",
            "-------------------------------\n",
            "\n",
            "Loss: {tensor(2.6122)}. Accuracy: 0.44\n",
            "Epoch 2\n",
            "-------------------------------\n",
            "\n",
            "Loss: {tensor(2.6122)}. Accuracy: 0.44\n",
            "Epoch 3\n",
            "-------------------------------\n",
            "\n",
            "Loss: {tensor(2.6122)}. Accuracy: 0.44\n",
            "Epoch 4\n",
            "-------------------------------\n",
            "\n",
            "Loss: {tensor(2.6122)}. Accuracy: 0.44\n",
            "Epoch 5\n",
            "-------------------------------\n",
            "\n",
            "Loss: {tensor(2.6122)}. Accuracy: 0.44\n",
            "Done!\n"
          ]
        }
      ]
    }
  ]
}